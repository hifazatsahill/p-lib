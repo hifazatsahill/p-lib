{
  "nbformat": 4,
  "nbformat_minor": 0,
  "metadata": {
    "colab": {
      "provenance": [],
      "authorship_tag": "ABX9TyM1dkBWgWIWWlSvwspIytcx",
      "include_colab_link": true
    },
    "kernelspec": {
      "name": "python3",
      "display_name": "Python 3"
    },
    "language_info": {
      "name": "python"
    }
  },
  "cells": [
    {
      "cell_type": "markdown",
      "metadata": {
        "id": "view-in-github",
        "colab_type": "text"
      },
      "source": [
        "<a href=\"https://colab.research.google.com/github/hifazatsahill/p-lib/blob/main/PROJECTS_homework_projects.ipynb\" target=\"_parent\"><img src=\"https://colab.research.google.com/assets/colab-badge.svg\" alt=\"Open In Colab\"/></a>"
      ]
    },
    {
      "cell_type": "code",
      "execution_count": null,
      "metadata": {
        "id": "dPb58TYffT1b"
      },
      "outputs": [],
      "source": []
    },
    {
      "cell_type": "markdown",
      "source": [],
      "metadata": {
        "id": "hfzyvsJlCugJ"
      }
    },
    {
      "cell_type": "markdown",
      "source": [
        "00_intro_python"
      ],
      "metadata": {
        "id": "6jWvjXBkfi7k"
      }
    },
    {
      "cell_type": "code",
      "source": [
        "def main():\n",
        "  num1 : int = input(\"Enter a number: \")\n",
        "  num2 :int = input(\"Enter a number: \")\n",
        "  result = num1 + num2\n",
        "  print(result)\n",
        "\n",
        "if __name__ == \"__main__\":\n",
        "  main()"
      ],
      "metadata": {
        "colab": {
          "base_uri": "https://localhost:8080/"
        },
        "id": "wDgNU02tflw4",
        "outputId": "7f112c42-7f67-46a4-825b-1ac6efb6dfd2"
      },
      "execution_count": null,
      "outputs": [
        {
          "output_type": "stream",
          "name": "stdout",
          "text": [
            "Enter a number: 25\n",
            "Enter a number: 36\n",
            "2536\n"
          ]
        }
      ]
    },
    {
      "cell_type": "code",
      "source": [
        "print(\"add_two_number\")\n",
        "\n",
        "def add():\n",
        "  first_number = int(input(\"Enter a first_number: \"))\n",
        "  second_number = int(input(\"Enter a second_number: \"))\n",
        "  total = int(first_number + second_number)\n",
        "  print(f\"The total sum of {first_number} and {second_number} is {total}\")\n",
        "\n",
        "if __name__ == '__main__':\n",
        "    add()"
      ],
      "metadata": {
        "colab": {
          "base_uri": "https://localhost:8080/"
        },
        "id": "a2x9dz24zfgi",
        "outputId": "eb486baf-c128-49bd-8538-73dedb1e1802"
      },
      "execution_count": null,
      "outputs": [
        {
          "output_type": "stream",
          "name": "stdout",
          "text": [
            "add_two_number\n",
            "Enter a first_number: 25\n",
            "Enter a second_number: 10\n",
            "The total sum of 25 and 10 is 35\n"
          ]
        }
      ]
    },
    {
      "cell_type": "markdown",
      "source": [
        "Write a program which asks the user what their favorite animal is, and then always responds with \"My favorite animal is also ___!\" (the blank should be filled in with the user-input animal, of course).\n",
        "\n",
        "\n",
        "\n"
      ],
      "metadata": {
        "id": "QvVucEHGiI-L"
      }
    },
    {
      "cell_type": "code",
      "source": [
        "def add():\n",
        " user_input:str = input(\"What's your favorite animal? \")\n",
        " print(f\"My favorite animal is also {user_input}!\")\n",
        "\n",
        "if __name__ == '__main__':\n",
        "    add()"
      ],
      "metadata": {
        "colab": {
          "base_uri": "https://localhost:8080/"
        },
        "id": "I2wSdrbdgc52",
        "outputId": "9ce5ef2b-ca9d-48e1-97f3-044575408703"
      },
      "execution_count": null,
      "outputs": [
        {
          "output_type": "stream",
          "name": "stdout",
          "text": [
            "What's your favorite animal? goat\n",
            "My favorite animal is also goat!\n"
          ]
        }
      ]
    },
    {
      "cell_type": "markdown",
      "source": [
        "Write a program which prompts the user for a temperature in Fahrenheit (this can be a number with decimal places!) and outputs the temperature converted to Celsius.\n",
        "The equationn should use for converting from Fahrenheit to Celsius is the following:\n",
        "\n",
        "degrees_celsius = (degrees_fahrenheit - 32) * 5.0/9.0"
      ],
      "metadata": {
        "id": "6qwUlN5oi8Dh"
      }
    },
    {
      "cell_type": "code",
      "source": [
        "print(\"02_agreement_bot\")\n",
        "def bot():\n",
        "  animal = str(input(\"What's your favorite animal? \"))\n",
        "  print(f\"My favorite animal is also {animal}!\")\n",
        "\n",
        "if __name__ == '__main__':\n",
        "    bot()\n"
      ],
      "metadata": {
        "colab": {
          "base_uri": "https://localhost:8080/"
        },
        "id": "5mcjB36KjH5u",
        "outputId": "31dd8441-9826-4b9c-af0b-e4c3ba4def02"
      },
      "execution_count": null,
      "outputs": [
        {
          "output_type": "stream",
          "name": "stdout",
          "text": [
            "02_agreement_bot\n",
            "What's your favorite animal? camel\n",
            "My favorite animal is also camel!\n"
          ]
        }
      ]
    },
    {
      "cell_type": "code",
      "source": [
        "print(\"03_temperature_converter\")\n",
        "\n",
        "def temperature_converter():\n",
        "  print(\"Temperature Converter\")\n",
        "  Fahrenheit_degree = float(input(\"Enter Your Fahrenheit degree : \"))\n",
        "  Celsius_degree = (Fahrenheit_degree-32) * 5.0/9.0\n",
        "  print(f\"{Fahrenheit_degree} degrees Fahrenheit is equal to {Celsius_degree} degrees Celsius.\")\n",
        "\n",
        "if __name__ == '__main__':\n",
        "    temperature_converter()"
      ],
      "metadata": {
        "colab": {
          "base_uri": "https://localhost:8080/"
        },
        "id": "Y3FxncvW1L-Q",
        "outputId": "4b39792d-f917-4f84-e705-f189daa3ddf0"
      },
      "execution_count": null,
      "outputs": [
        {
          "output_type": "stream",
          "name": "stdout",
          "text": [
            "03_temperature_converter\n",
            "Temperature Converter\n",
            "Enter Your Fahrenheit degree : 15\n",
            "15.0 degrees Fahrenheit is equal to -9.444444444444445 degrees Celsius.\n"
          ]
        }
      ]
    },
    {
      "cell_type": "markdown",
      "source": [
        "# Write a program to solve this age-related riddle!\n",
        "\n",
        "Anton, Beth, Chen, Drew, and Ethan are all friends. Their ages are as follows:\n",
        "\n",
        "Anton is 21 years old.\n",
        "\n",
        "Beth is 6 years older than Anton.\n",
        "\n",
        "Chen is 20 years older than Beth.\n",
        "\n",
        "Drew is as old as Chen's age plus Anton's age.\n",
        "\n",
        "# Ethan is the same age as Chen. bold text"
      ],
      "metadata": {
        "id": "b90cIm2wC2Bg"
      }
    },
    {
      "cell_type": "code",
      "source": [
        "def age_riddle():\n",
        "  print(\"Age Riddle\")\n",
        "  Anthon_age:int= 21\n",
        "  Beth_age:int= Anthon_age + 6\n",
        "  Chen_age:int= Beth_age - 20\n",
        "  Drew_age:int= Chen_age + Anthon_age\n",
        "  Ethan_age:int= Chen_age\n",
        "\n",
        "  print(f\"Chen is {Chen_age} years old.\")\n",
        "  print(f\"Drew is {Drew_age} years old.\")\n",
        "  print(f\"Ethan is {Ethan_age} years old.\")\n",
        "  print(f\"Anthon is {Anthon_age} years old.\")\n",
        "  print(f\"Beth is {Beth_age} years old.\")\n",
        "\n",
        "if __name__ == '__main__':\n",
        "    age_riddle()\n",
        ""
      ],
      "metadata": {
        "colab": {
          "base_uri": "https://localhost:8080/"
        },
        "id": "4_B28toMEeAq",
        "outputId": "aeac7778-0f2d-4868-e2b8-ceff84bfc29e"
      },
      "execution_count": 1,
      "outputs": [
        {
          "output_type": "stream",
          "name": "stdout",
          "text": [
            "Age Riddle\n",
            "Chen is 7 years old.\n",
            "Drew is 28 years old.\n",
            "Ethan is 7 years old.\n",
            "Anthon is 21 years old.\n",
            "Beth is 27 years old.\n"
          ]
        }
      ]
    },
    {
      "cell_type": "markdown",
      "source": [
        "# **Problem Statement**\n",
        "Prompt the user to enter the lengths of each side of a triangle and then calculate and print the perimeter of the triangle (the sum of all of the side lengths).\n",
        "\n",
        "Here's a sample run of the program (user input is in bold italics):\n",
        "\n",
        "What is the length of side 1? 3\n",
        "\n",
        "What is the length of side 2? 4\n",
        "\n",
        "What is the length of side 3? 5.5\n",
        "\n",
        "The perimeter of the triangle is 12.5"
      ],
      "metadata": {
        "id": "xQLpS1WtFaya"
      }
    },
    {
      "cell_type": "code",
      "source": [
        "def perimeter_of_triangle():\n",
        "\n",
        "  side1:float = float(input(\"What is the length of side 1? \"))\n",
        "  side2:float = float(input(\"What is the length of side 2? \"))\n",
        "  side3:float = float(input(\"What is the length of side 3? \"))\n",
        "\n",
        "  perimeter:float = side1 + side2 + side3\n",
        "\n",
        "  print(f\"The perimeter of the triangle is {perimeter}\")\n",
        "\n",
        "if __name__ == '__main__':\n",
        "    perimeter_of_triangle()"
      ],
      "metadata": {
        "colab": {
          "base_uri": "https://localhost:8080/"
        },
        "id": "YUAiatEtFkdS",
        "outputId": "17ebdf4d-53b7-4d5c-b102-b5cef2e93641"
      },
      "execution_count": 2,
      "outputs": [
        {
          "output_type": "stream",
          "name": "stdout",
          "text": [
            "What is the length of side 1? 25\n",
            "What is the length of side 2? 12\n",
            "What is the length of side 3? 65\n",
            "The perimeter of the triangle is 102.0\n"
          ]
        }
      ]
    },
    {
      "cell_type": "markdown",
      "source": [
        "# Problem Statement\n",
        "Ask the user for a number and print its square (the product of the number times itself).\n",
        "\n",
        "Here's a sample run of the program (user input is in bold italics):\n",
        "\n",
        "Type a number to see its square: 4\n",
        "\n",
        "4.0 squared is 16.0"
      ],
      "metadata": {
        "id": "xgQA2jABGJdV"
      }
    },
    {
      "cell_type": "code",
      "source": [
        "\n",
        "def main():\n",
        "    num: float = float(input(\"Type a number to see its square: \")) # Make sure to cast the input to a float so we can do math with it!\n",
        "    print(str(num) + \" squared is \" + str(num ** 2)) # num * num is equivalent to num ** 2. The ** operator raises something to a power!\n",
        "\n",
        "if __name__ == '__main__':\n",
        "    main()\n",
        "# understanding an then soleve second method\n",
        "\n",
        "def square_of_number():\n",
        "  num1:float = float(input(\"Type a number to see its square: \"))\n",
        "  print(f\"{num1} squared is {num1 ** 2}\")\n",
        "\n",
        "if __name__ == '__main__':\n",
        "    square_of_number()"
      ],
      "metadata": {
        "colab": {
          "base_uri": "https://localhost:8080/"
        },
        "id": "EHBBXGVkGblG",
        "outputId": "cf0148d7-5bdd-4812-8b69-29b343dc2c3f"
      },
      "execution_count": 11,
      "outputs": [
        {
          "output_type": "stream",
          "name": "stdout",
          "text": [
            "Type a number to see its square: 2\n",
            "2.0 squared is 4.0\n",
            "Type a number to see its square: 25\n",
            "25.0 squared is 625.0\n"
          ]
        }
      ]
    },
    {
      "cell_type": "markdown",
      "source": [
        "# **PROJECTS/homework_projects/01_expressions**"
      ],
      "metadata": {
        "id": "eVRwS6OdKOir"
      }
    },
    {
      "cell_type": "markdown",
      "source": [
        "# Problem Statement\n",
        "Write a program that asks the user for the lengths of the two perpendicular sides of a right triangle and outputs the length of the third side (the hypotenuse) using the Pythagorean theorem!\n",
        "\n",
        "The Pythagorean theorem, named after the ancient Greek thinker, Pythagoras, is a fundamental relation in geometry. It states that in a right triangle, the square of the hypotenuse is equal to the sum of the square of the other two sides.\n",
        "\n",
        "For instance, let's consider a right triangle ABC, with the right angle located at C. According to the Pythagorean theorem:\n",
        "\n",
        "BC ** 2 = AB ** 2 + AC ** 2\n",
        "\n",
        "Your code should read in the lengths of the sides AB and AC, and that outputs the length of the hypotenuse (BC). You will probably find math.sqrt() to be useful.\n",
        "\n",
        "Here's a sample run of the program (user input is in bold italics):\n",
        "\n",
        "Enter the length of AB: 3\n",
        "\n",
        "Enter the length of AC: 4\n",
        "\n",
        "The length of BC (the hypotenuse) is: 5.0"
      ],
      "metadata": {
        "id": "LBrPye4pMtvQ"
      }
    },
    {
      "cell_type": "code",
      "source": [
        "\n",
        "import math\n",
        "    # Import the math library so we can use the sqrt function\n",
        "\n",
        "def main():\n",
        "    # Get the two side lengths from the user and cast them to be numbers\n",
        "    ab: float = float(input(\"Enter the length of AB: \"))\n",
        "    ac: float = float(input(\"Enter the length of AC: \"))\n",
        "\n",
        "    # Calculate the hypotenuse using the two sides and print it out\n",
        "    bc: float = math.sqrt(ab**2 + ac**2)\n",
        "    print(\"The length of BC (the hypotenuse) is: \" + str(bc))\n",
        "\n",
        "if __name__ == '__main__':\n",
        "    main()"
      ],
      "metadata": {
        "colab": {
          "base_uri": "https://localhost:8080/"
        },
        "id": "8Y74nl6EKnf3",
        "outputId": "fee65bc8-1bdc-4a5b-8e5a-a9961f9cad75"
      },
      "execution_count": 22,
      "outputs": [
        {
          "output_type": "stream",
          "name": "stdout",
          "text": [
            "Enter the length of AB: 25\n",
            "Enter the length of AC: 2\n",
            "The length of BC (the hypotenuse) is: 25.079872407968907\n"
          ]
        }
      ]
    },
    {
      "cell_type": "code",
      "source": [
        "print(\"planatery calculator\")\n",
        "\n",
        "def main():\n",
        "\n",
        "  print(\"Wellcome to the planet weight calculator\")\n",
        "  print(\"************************************\")\n",
        "\n",
        "  earth_weight = float(input(\"Enter your weight on earth: \"))\n",
        "  gravity_ratio = {\n",
        "      \"Mercury\": 0.38,\n",
        "      \"Venus\": 0.91,\n",
        "      \"Mars\": 1.00,\n",
        "      \"Jupiter\": 2.34,\n",
        "      \"Saturn\": 0.93,\n",
        "      \"uranus\": 0.92,\n",
        "      \"Neptune\": 1.19\n",
        "  }\n",
        "\n",
        "  print(\"\\n select a planet\")\n",
        "  for planet in gravity_ratio:\n",
        "    print(f'- {planet}')\n",
        "\n",
        "    planet_choice = input(\"Enter the name of the planet: \").title()\n",
        "\n",
        "  if planet_choice in gravity_ratio:\n",
        "        new_weight = earth_weight * gravity_ratio[planet_choice]\n",
        "        print(f'Your weigt on {planet_choice} is {new_weight}kg')\n",
        "  else:\n",
        "          print(\"Invalid planet choice\")\n",
        "\n",
        "if __name__ == '__main__':\n",
        "      main()\n",
        "\n"
      ],
      "metadata": {
        "colab": {
          "base_uri": "https://localhost:8080/"
        },
        "id": "qfNN4sBOT6sP",
        "outputId": "7438c427-48f4-48e0-d462-6359a64011d1"
      },
      "execution_count": null,
      "outputs": [
        {
          "output_type": "stream",
          "name": "stdout",
          "text": [
            "planatery calculator\n",
            "Wellcome to the planet weight calculator\n",
            "************************************\n"
          ]
        }
      ]
    },
    {
      "cell_type": "markdown",
      "source": [
        "#** Lists and Dicts**"
      ],
      "metadata": {
        "id": "25Vx53Z8bMy8"
      }
    },
    {
      "cell_type": "markdown",
      "source": [
        "# **Problem #1: List Practice**\n",
        "Now practice writing code with lists! Implement the functionality described in the comments below.\n",
        "\n",
        "def main(): # Create a list called fruit_list that contains the following fruits: # 'apple', 'banana', 'orange', 'grape', 'pineapple'.\n",
        "\n",
        "# Print the length of the list.\n",
        "\n",
        "\n",
        "# Add 'mango' at the end of the list.\n",
        "\n",
        "\n",
        "# Print the updated list."
      ],
      "metadata": {
        "id": "hzIi-CYycD6J"
      }
    },
    {
      "cell_type": "code",
      "source": [
        "\n",
        "my_list = ['mango','orange','peach','pineapple']\n",
        "\n",
        "def access_element(my_list, index):\n",
        "  \"\"\"Return the element at the specified  index or an error message if out of range\"\"\"\n",
        "  if  0 <= index < len(my_list):\n",
        "      return f'Eleent at index {index}: {my_list[index]}'\n",
        "      return 'Index out of range'\n",
        "  def modify_element(my_list, index, new_value):\n",
        "      \"\"\"Replace the element at the specified index with the new value\"\"\"\n",
        "      if 0 <= index < len(my_list):\n",
        "        old_value = my_list[index]\n",
        "        my_list[index] =new_value\n",
        "        return f'Element at index {index} modified from {old_value} to {new_value}'\n",
        "\n",
        "        return 'Index out of range'\n",
        "\n",
        "\n",
        "  def slice_list(my-list,start,end):\n",
        "    \"\"\"return a new list\"\"\"\n",
        "  if 0 <= start < len(my_list) and 0 <= end <= len(my_list):\n",
        "    return f\"sliced list: {my_list[start:end]}\"\n",
        "  return('invalid slice indicate')"
      ],
      "metadata": {
        "id": "9J7KylUEUtNk"
      },
      "execution_count": null,
      "outputs": []
    }
  ]
}