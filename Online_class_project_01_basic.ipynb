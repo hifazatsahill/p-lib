{
  "nbformat": 4,
  "nbformat_minor": 0,
  "metadata": {
    "colab": {
      "provenance": [],
      "authorship_tag": "ABX9TyM96sGFHFcrqksp8/80B9FQ",
      "include_colab_link": true
    },
    "kernelspec": {
      "name": "python3",
      "display_name": "Python 3"
    },
    "language_info": {
      "name": "python"
    }
  },
  "cells": [
    {
      "cell_type": "markdown",
      "metadata": {
        "id": "view-in-github",
        "colab_type": "text"
      },
      "source": [
        "<a href=\"https://colab.research.google.com/github/hifazatsahill/p-lib/blob/main/Online_class_project_01_basic.ipynb\" target=\"_parent\"><img src=\"https://colab.research.google.com/assets/colab-badge.svg\" alt=\"Open In Colab\"/></a>"
      ]
    },
    {
      "cell_type": "code",
      "execution_count": 7,
      "metadata": {
        "colab": {
          "base_uri": "https://localhost:8080/"
        },
        "id": "GFwhfZrt9fow",
        "outputId": "056ee271-d9bf-470d-8278-b5d16685e42b"
      },
      "outputs": [
        {
          "output_type": "stream",
          "name": "stdout",
          "text": [
            "00_joke_bot\n",
            "What do You Want ?love story\n",
            "Sorry i just kidding with you\n"
          ]
        }
      ],
      "source": [
        "# 00_joke_bpt\n",
        "print(\"00_joke_bot\")\n",
        "PROMPT:str = \"What do You Want ?\"\n",
        "JOKE: str = \"😃 Why did the emoji go to therapy?\"\n",
        "SORRY:str = \"Sorry I just kidding with you\"\n",
        "\n",
        "def main():\n",
        "  user_input = input(PROMPT)\n",
        "  user_input = user_input.strip().lower()\n",
        "  if \"joke\" in user_input:\n",
        "    print(JOKE)\n",
        "  else:\n",
        "    print(SORRY)\n",
        "\n",
        "if __name__ == \"__main__\":\n",
        "  main()"
      ]
    },
    {
      "cell_type": "code",
      "source": [
        "# 01_liftoff\n",
        "print(\"01_liftoff\")\n",
        "\n",
        "def main():\n",
        "  for i in range(10,0,-1):\n",
        "    print(i,end = \"\")\n",
        "  print(\" liftoff🧨\")\n",
        "\n",
        "if __name__ == \"__main__\":\n",
        "  main()\n"
      ],
      "metadata": {
        "colab": {
          "base_uri": "https://localhost:8080/"
        },
        "id": "QuYdeyX3FhvD",
        "outputId": "26a2af45-cc78-4673-96c5-567b8e57b10f"
      },
      "execution_count": 11,
      "outputs": [
        {
          "output_type": "stream",
          "name": "stdout",
          "text": [
            "01_liftoff\n",
            "10987654321 liftoff🧨\n"
          ]
        }
      ]
    },
    {
      "cell_type": "code",
      "source": [
        "# 02_double_it\n",
        "print(\"02_double_it\")\n",
        "\n",
        "def main():\n",
        "  user_value = int(input(\"Enter a Number: \"))\n",
        "  while user_value < 100:\n",
        "    user_value = user_value * 2\n",
        "    print(user_value)\n",
        "\n",
        "if __name__ == \"__main__\":\n",
        "  main()"
      ],
      "metadata": {
        "colab": {
          "base_uri": "https://localhost:8080/"
        },
        "id": "Wz20aNNB-p-C",
        "outputId": "70077358-b8dc-49de-ac49-a822363755f0"
      },
      "execution_count": 12,
      "outputs": [
        {
          "output_type": "stream",
          "name": "stdout",
          "text": [
            "02_double_it\n",
            "Enter a Number: 5\n",
            "10\n",
            "20\n",
            "40\n",
            "80\n",
            "160\n"
          ]
        }
      ]
    },
    {
      "cell_type": "code",
      "source": [
        "# 01_basics/03_guess_my_number.md\n",
        "\n",
        "import random\n",
        "\n",
        "print(\"03_guess_my_number.\")\n",
        "\n",
        "def main():\n",
        "  secret_number = random.randint(1, 100)\n",
        "  print(\"I am thinking of the number between 1 and 100...\")\n",
        "  guess = int(input(\"Enter Guess a number \"))\n",
        "\n",
        "  while guess != secret_number:\n",
        "    if guess < secret_number:\n",
        "      print(\"Your Guess is low range\")\n",
        "    else:\n",
        "      print(\"Your Guess is to High \")\n",
        "    guess = int(input(\"Enter a guess:\"))\n",
        "\n",
        "  print(\"Congratulations! You won the guess number that was\", {secret_number})\n",
        "  print(\"Bye\")\n",
        "\n",
        "  if __name__ == \"__main__\":\n",
        "    main()\n",
        "\n",
        "if __name__ == \"__main__\":\n",
        "  main()\n",
        "\n"
      ],
      "metadata": {
        "id": "js6ETgBRHr9z"
      },
      "execution_count": null,
      "outputs": []
    },
    {
      "cell_type": "code",
      "source": [
        "# PROJECTS/online_class_projects/01_basics/04_random_number\n",
        "\n",
        "import random\n",
        "\n",
        "def main():\n",
        "  for _ in range(20):\n",
        "    print(random.randint(1,100), end = \"\")\n",
        "\n",
        "if __name__ == \"__main__\":\n",
        "  main()\n"
      ],
      "metadata": {
        "id": "1ma9QlKKM4cY"
      },
      "execution_count": null,
      "outputs": []
    }
  ]
}